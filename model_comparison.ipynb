{
 "cells": [
  {
   "cell_type": "markdown",
   "id": "c216cfc6",
   "metadata": {},
   "source": [
    "# Comparison of the built models\n",
    "In this notebook I will compare the performance of the knn and the logistic regression model"
   ]
  },
  {
   "cell_type": "markdown",
   "id": "b539044e",
   "metadata": {},
   "source": [
    "## Loading the libraries and the validation dataset"
   ]
  },
  {
   "cell_type": "code",
   "execution_count": 25,
   "id": "9df83701",
   "metadata": {},
   "outputs": [],
   "source": [
    "import joblib\n",
    "import numpy as np\n",
    "import pandas as pd\n",
    "from sklearn.preprocessing import StandardScaler\n",
    "from sklearn.metrics import accuracy_score\n",
    "\n",
    "\n",
    "df = pd.read_csv('./data/validation.csv')"
   ]
  },
  {
   "cell_type": "markdown",
   "id": "6c723fb0",
   "metadata": {},
   "source": [
    "### Splitting the validation set"
   ]
  },
  {
   "cell_type": "code",
   "execution_count": 26,
   "id": "66c1e2e4",
   "metadata": {},
   "outputs": [],
   "source": [
    "X = df.drop(\"Outcome\", axis=1)\n",
    "y = df[\"Outcome\"]\n"
   ]
  },
  {
   "cell_type": "markdown",
   "id": "c5d0ecc0",
   "metadata": {},
   "source": [
    "## Loading the models"
   ]
  },
  {
   "cell_type": "code",
   "execution_count": 33,
   "id": "ac0f8e2a",
   "metadata": {},
   "outputs": [],
   "source": [
    "knn = joblib.load(\"./models/knn_model.pkl\")\n",
    "\n",
    "logreg = joblib.load(\"./models/logistic_regression_model.pkl\")\n"
   ]
  },
  {
   "cell_type": "code",
   "execution_count": 34,
   "id": "496a87b0",
   "metadata": {},
   "outputs": [],
   "source": [
    "scaler = StandardScaler()\n",
    "scaler.fit(X)\n",
    "X_scaled = scaler.transform(X)\n"
   ]
  },
  {
   "cell_type": "markdown",
   "id": "ec10b476",
   "metadata": {},
   "source": [
    "### Predicting the Validation output values"
   ]
  },
  {
   "cell_type": "code",
   "execution_count": 35,
   "id": "fa8361c1",
   "metadata": {},
   "outputs": [
    {
     "name": "stdout",
     "output_type": "stream",
     "text": [
      "Accuracy of the Logistic Regression Model: 0.7597402597402597\n",
      "Accuracy of the KNN Model: 0.6883116883116883\n"
     ]
    }
   ],
   "source": [
    "y_pred_logreg = logreg.predict(X_scaled)\n",
    "y_pred_knn = knn.predict(X_scaled)\n",
    "\n",
    "print(\"Accuracy of the Logistic Regression Model:\", accuracy_score(y, y_pred_logreg))\n",
    "print(\"Accuracy of the KNN Model:\", accuracy_score(y, y_pred_knn))\n"
   ]
  },
  {
   "cell_type": "markdown",
   "id": "629370f0",
   "metadata": {},
   "source": [
    "### Analyzing the results\n",
    "\n",
    "| Model  | Testing Accuracy | Validation Accuracy |\n",
    "|--------|------------------|---------------------|\n",
    "| LogReg | 76%              | 76%                 |\n",
    "| KNN    | 73%              | 69%                 |\n",
    "\n",
    "\n",
    "The performance results show that Logistic Regression slightly outperforms K-Nearest Neighbors (KNN) on both the testing and validation sets. Logistic Regression achieved an accuracy of 76% on both sets, indicating that it generalizes well and is neither overfitting nor underfitting the data. This stability suggests that the linear decision boundary learned by the model is well-suited to the underlying structure of the diabetes dataset.\n"
   ]
  }
 ],
 "metadata": {
  "kernelspec": {
   "display_name": "env",
   "language": "python",
   "name": "python3"
  },
  "language_info": {
   "codemirror_mode": {
    "name": "ipython",
    "version": 3
   },
   "file_extension": ".py",
   "mimetype": "text/x-python",
   "name": "python",
   "nbconvert_exporter": "python",
   "pygments_lexer": "ipython3",
   "version": "3.13.2"
  }
 },
 "nbformat": 4,
 "nbformat_minor": 5
}
